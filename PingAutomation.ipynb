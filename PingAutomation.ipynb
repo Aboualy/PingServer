{
 "cells": [
  {
   "cell_type": "code",
   "execution_count": 1,
   "metadata": {},
   "outputs": [],
   "source": [
    "import pandas as pd\n",
    "import numpy as np\n",
    "import re\n",
    "import os \n",
    "import csv\n",
    "from datetime import datetime\n",
    "col_names =  [\"RTT\"]\n",
    "df  = pd.DataFrame(columns = col_names)"
   ]
  },
  {
   "cell_type": "code",
   "execution_count": 2,
   "metadata": {},
   "outputs": [],
   "source": [
    "import subprocess\n",
    "import re\n",
    "def ping_sever(host):\n",
    "    v = \"| while read pong; do echo '$(date): $pong'; done\"\n",
    "    ping = subprocess.Popen(\n",
    "        [\"ping\", \"-c\", \"5\", host, ],\n",
    "        stdout = subprocess.PIPE,\n",
    "        stderr = subprocess.PIPE )\n",
    "\n",
    "    out, error = ping.communicate()\n",
    "    output = out.decode('utf-8')\n",
    "    return output.splitlines()\n",
    "line = ping_sever(\"www.google.com\")"
   ]
  },
  {
   "cell_type": "code",
   "execution_count": 3,
   "metadata": {},
   "outputs": [],
   "source": [
    "rtt_arr = []\n",
    "p_loss = []\n",
    "p_transmitted =[]\n",
    "p_received =[]"
   ]
  },
  {
   "cell_type": "code",
   "execution_count": 4,
   "metadata": {},
   "outputs": [],
   "source": [
    "for idx in range(len(line)-1):\n",
    "    m = re.search(r'(?<=time=).*?(?=ms)', line[idx])\n",
    "    if m:\n",
    "        rtt_arr.append(m.group())\n",
    "        l = re.search(r'(?<=received,).*?(?=packet)', line[idx+3])\n",
    "        p = re.search(r'(?<=,).*?(?=packets)', line[idx+3])\n",
    "        r = re.search(r'(?<=transmitted,).*?(?=received,)' , line[idx+3])\n",
    "        if l:\n",
    "            for i in range(int(p.group().strip(\" \"))):\n",
    "                        p_transmitted.append(p.group().strip(\" \"))\n",
    "                        p_loss.append(l.group().strip(\" \"))\n",
    "                        p_received.append(r.group()[1])"
   ]
  },
  {
   "cell_type": "code",
   "execution_count": 5,
   "metadata": {},
   "outputs": [
    {
     "data": {
      "text/html": [
       "<div>\n",
       "<style scoped>\n",
       "    .dataframe tbody tr th:only-of-type {\n",
       "        vertical-align: middle;\n",
       "    }\n",
       "\n",
       "    .dataframe tbody tr th {\n",
       "        vertical-align: top;\n",
       "    }\n",
       "\n",
       "    .dataframe thead th {\n",
       "        text-align: right;\n",
       "    }\n",
       "</style>\n",
       "<table border=\"1\" class=\"dataframe\">\n",
       "  <thead>\n",
       "    <tr style=\"text-align: right;\">\n",
       "      <th></th>\n",
       "      <th>RTT</th>\n",
       "      <th>Packet Loss</th>\n",
       "      <th>Packet transmitted</th>\n",
       "      <th>Packet received</th>\n",
       "    </tr>\n",
       "  </thead>\n",
       "  <tbody>\n",
       "    <tr>\n",
       "      <th>0</th>\n",
       "      <td>542.871</td>\n",
       "      <td>0.0%</td>\n",
       "      <td>5</td>\n",
       "      <td>5</td>\n",
       "    </tr>\n",
       "    <tr>\n",
       "      <th>1</th>\n",
       "      <td>11.615</td>\n",
       "      <td>0.0%</td>\n",
       "      <td>5</td>\n",
       "      <td>5</td>\n",
       "    </tr>\n",
       "    <tr>\n",
       "      <th>2</th>\n",
       "      <td>11.721</td>\n",
       "      <td>0.0%</td>\n",
       "      <td>5</td>\n",
       "      <td>5</td>\n",
       "    </tr>\n",
       "  </tbody>\n",
       "</table>\n",
       "</div>"
      ],
      "text/plain": [
       "        RTT Packet Loss Packet transmitted  Packet received\n",
       "0  542.871         0.0%                   5               5\n",
       "1   11.615         0.0%                   5               5\n",
       "2   11.721         0.0%                   5               5"
      ]
     },
     "execution_count": 5,
     "metadata": {},
     "output_type": "execute_result"
    }
   ],
   "source": [
    "df[\"RTT\"] = rtt_arr\n",
    "df[\"Packet Loss\"] = p_loss \n",
    "df[\"Packet transmitted \"] = p_transmitted \n",
    "df[\"Packet received\"] = p_received\n",
    "df.head(3)"
   ]
  },
  {
   "cell_type": "code",
   "execution_count": 6,
   "metadata": {},
   "outputs": [],
   "source": [
    "#Ceate a csv file for future uses out of the fetched data \n",
    "headers=[\"RTT\", \"PacketLoss\", \"PacketTransmitted\", \"PacketReceived\"]\n",
    "def create_csv_file(data=None):\n",
    "    if data is None:\n",
    "        data = headers\n",
    "    data = headers\n",
    "    if not os.path.exists(\"output.csv\"):\n",
    "        with open('output.csv', 'w', newline='') as outcsv:\n",
    "            writer = csv.writer(outcsv)\n",
    "            writer.writerow(data)\n",
    "create_csv_file()"
   ]
  },
  {
   "cell_type": "code",
   "execution_count": 7,
   "metadata": {},
   "outputs": [],
   "source": [
    "with open('output.csv', 'a') as f:\n",
    "    dd = df\n",
    "    dd.to_csv(f, header=False, index=False)"
   ]
  }
 ],
 "metadata": {
  "kernelspec": {
   "display_name": "Python 3",
   "language": "python",
   "name": "python3"
  },
  "language_info": {
   "codemirror_mode": {
    "name": "ipython",
    "version": 3
   },
   "file_extension": ".py",
   "mimetype": "text/x-python",
   "name": "python",
   "nbconvert_exporter": "python",
   "pygments_lexer": "ipython3",
   "version": "3.6.8"
  }
 },
 "nbformat": 4,
 "nbformat_minor": 2
}
